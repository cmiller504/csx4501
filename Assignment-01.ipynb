{
 "cells": [
  {
   "cell_type": "markdown",
   "id": "53a75286-8e9a-4574-a9cd-deadf632e1d1",
   "metadata": {},
   "source": [
    "# Instructions"
   ]
  },
  {
   "cell_type": "markdown",
   "id": "64e3cf6e-cf51-4531-baa3-c576b50d555b",
   "metadata": {},
   "source": [
    "The following assignment is intended to help you gain familiarity with the some software infrastructure and to help you practice (potentially completely new) Python skills.\n",
    "\n",
    "It's not intended to make you tear your hair out in consternation!  If you want hints or guidance on the basics, please post in Slack\n",
    "\n",
    "1. Join our Slack channel\n",
    "    * [click here if you need the link to join](https://join.slack.com/t/slack-rwi6743/shared_invite/zt-1batoi4rr-fTrKMVOAWFYqTOYm8bOkEQ)\n",
    "1. Make a new repository on GitHub to store assignments from this class.\n",
    "    * Go to GitHub (https://github.com) and log in. \n",
    "        * Create a GitHub account if you need one \n",
    "    * Click on \"Repositories\" and \"New\" \n",
    "    * Name your repo \"csx4501\", make it public, and select the \"Add a README file\" option\n",
    "    * Clone the new repo to your computer\n",
    "        * e.g. by using the GitHub Desktop application (https://desktop.github.com/)\n",
    "1. Copy this assignment file into the folder you just cloned.\n",
    "1. Carry out the subsequent exercises (below) in that file and save it.\n",
    "    * You will need to have Python and Jupyter installed on your computer.\n",
    "    * Contact me if you're having difficulties.\n",
    "1. Customize your repo's README file\n",
    "    * Go to the folder on your computer with the cloned files\n",
    "    * Open the README in a text editor\n",
    "    * Add a profile of yourself, a description of the course, project ideas, and your objectives for the class.\n",
    "    * Style your text\n",
    "        * Here's one [markdown guide](https://guides.github.com/features/mastering-markdown) for guidance\n",
    "1. Push your completed assignment and README files to your GitHub repository\n",
    "    1. In GitHub Desktop app, make sure that the \"Current Repository\" shown at the top is your new csx4501 repository\n",
    "    1. The changed files should show up on the left.\n",
    "    1. Add a commit summary and description on the bottom-left, then click the blue Commit button.\n",
    "    1. In the main window, click the blue button \"Push origin\" to push your changed files to GitHub.\n",
    "    1. After you push successfully, verify that your files are in your GitHub repository by visiting the website for your repository\n",
    "1. Finish the assignment by submitting a link to your GitHub repository on the Canvas site"
   ]
  },
  {
   "cell_type": "markdown",
   "id": "49b9267a-d050-4671-a643-1103fd47c690",
   "metadata": {},
   "source": [
    "# Python exercises"
   ]
  },
  {
   "cell_type": "code",
   "execution_count": null,
   "id": "31728919-ffb3-44c6-ba97-d00489c96274",
   "metadata": {},
   "outputs": [],
   "source": [
    "# Do at least three mathematical calculations with `+`, `-`, `*`, `/`, and/or `%`."
   ]
  },
  {
   "cell_type": "code",
   "execution_count": 21,
   "id": "35f72a55-5567-43cb-b9b7-74594dd7542a",
   "metadata": {},
   "outputs": [
    {
     "name": "stdout",
     "output_type": "stream",
     "text": [
      "35 percent of 200 is 70.0\n",
      "18505452\n",
      "46 divided by 9 is 5\n",
      "the remainder of 46 divided by 9 is 1\n",
      "3 to the third power is 27\n"
     ]
    }
   ],
   "source": [
    "# calculate percent\n",
    "print('35 percent of 200 is', 35*200/100)\n",
    "\n",
    "# substract and add big numbers\n",
    "print(18475840-3487+33099)\n",
    "\n",
    "# divide number without decimal/remaining\n",
    "print('46 divided by 9 is', 46//9)\n",
    "\n",
    "# get the remainder of two divding numbers\n",
    "print('the remainder of 46 divided by 9 is', 46%9)\n",
    "\n",
    "# exponents\n",
    "print('3 to the third power is', 3**3)"
   ]
  },
  {
   "cell_type": "code",
   "execution_count": 38,
   "id": "8fe34a6d-a4f7-4111-a95a-257a7de52103",
   "metadata": {},
   "outputs": [
    {
     "name": "stdout",
     "output_type": "stream",
     "text": [
      "odd\n"
     ]
    }
   ],
   "source": [
    "# Assign a number to the variable `a`,\n",
    "# do a mathematical calculation to determine whether a is odd or even,\n",
    "# and print out either \"a is even\" or \"a is odd\" as appropriate.\n",
    "\n",
    "a=567657\n",
    "\n",
    "if a%2 == 0:\n",
    "    print(\"even\")\n",
    "else:\n",
    "    print('odd')"
   ]
  },
  {
   "cell_type": "code",
   "execution_count": 63,
   "id": "a70653e6-0a18-4155-8b4b-c6835f72e4e6",
   "metadata": {},
   "outputs": [
    {
     "name": "stdout",
     "output_type": "stream",
     "text": [
      "[1, 1, 2, 3, 5, 8, 13, 21, 34, 55, 89]\n",
      "1\n",
      "5\n",
      "89\n",
      "11\n",
      "1\n",
      "1\n",
      "2\n",
      "3\n",
      "5\n",
      "8\n",
      "13\n",
      "21\n",
      "34\n",
      "55\n",
      "89\n",
      "1\n",
      "1\n",
      "2\n",
      "3\n",
      "5\n",
      "[89, 55, 34, 21, 13, 8, 5, 3, 2, 1, 1]\n",
      "[1, 1, 2, 3, 5, 8, 13, 21, 34, 55, 89, 144]\n"
     ]
    }
   ],
   "source": [
    "# Using the given list,\n",
    "# 1. print the list\n",
    "# 2. print the 0th element \n",
    "# 3. print the 5th element \n",
    "# 4. print the last element \n",
    "# 5. print the length\n",
    "#        look at https://python.readthedocs.io/en/stable/library/functions.html\n",
    "#        specifically `len()`\n",
    "# 6. print all the elements\n",
    "# 7. print all the elements less than 8\n",
    "# 8. print out the elements in reverse order\n",
    "#        look at https://python-reference.readthedocs.io/en/latest/docs/list/\n",
    "#        specifically `reverse`\n",
    "# 9. append the next fibonacci number and print out the new list\n",
    "#        look again at the docs, this time for `append`\n",
    "#        [elements in the fibonacci sequence are equal to the sum of the previous two elements]\n",
    "\n",
    "a = [1, 1, 2, 3, 5, 8, 13, 21, 34, 55, 89]\n",
    "\n",
    "# 1.\n",
    "print(a)\n",
    "\n",
    "# 2.\n",
    "print(a[0])\n",
    "\n",
    "# 3.\n",
    "print(a[4]) # or print(a[5]) if following the format in #2\n",
    "\n",
    "#4.\n",
    "print(a[-1])\n",
    "\n",
    "#5.\n",
    "print(len(a))\n",
    "\n",
    "#6.\n",
    "for number in a:\n",
    "    print(number)\n",
    "    \n",
    "#7.\n",
    "for number in a:\n",
    "    if number < 8:\n",
    "        print(number)\n",
    "\n",
    "#8.\n",
    "a.reverse()\n",
    "print(a) # why did print(a.reverse()) return None?\n",
    "\n",
    "#9\n",
    "a.reverse()\n",
    "next_num = a[-1] + a[-2]\n",
    "a.append(next_num)\n",
    "print(a)"
   ]
  },
  {
   "cell_type": "code",
   "execution_count": 23,
   "id": "22203dab-ac71-45fa-9922-c649c7810488",
   "metadata": {},
   "outputs": [
    {
     "name": "stdout",
     "output_type": "stream",
     "text": [
      "[1, 1, 2, 3, 5, 8, 13, 21, 34, 55, 89, 1, 2, 3, 4, 5, 6, 7, 8, 9, 10, 11, 12, 13]\n",
      "list of elements in only one list or the other: [4, 6, 7, 9, 10, 11, 12, 21, 34, 55, 89]\n",
      "also: [4, 6, 7, 9, 10, 11, 12, 21, 34, 55, 89]\n"
     ]
    }
   ],
   "source": [
    "# Using the below lists\n",
    "# 1. print out all the elements that are contained in both lists\n",
    "# 2. print out the elements that are contained in either list a or list b but not both\n",
    "\n",
    "a = [1, 1, 2, 3, 5, 8, 13, 21, 34, 55, 89]\n",
    "b = [1, 2, 3, 4, 5, 6, 7, 8, 9, 10, 11, 12, 13]\n",
    "\n",
    "#1\n",
    "print(a + b)\n",
    "\n",
    "#2\n",
    "# loop method\n",
    "unique = []\n",
    "for number in b:\n",
    "    if number not in a:\n",
    "        unique.append(number)\n",
    "for number in a:\n",
    "    if number not in b:\n",
    "        unique.append(number)\n",
    "        \n",
    "print('list of elements in only one list or the other:',unique)\n",
    "\n",
    "# set method\n",
    "only_a = list(set(a).difference(b))\n",
    "only_b = list(set(b).difference(a)) \n",
    "unique2 = only_a + only_b\n",
    "print('also:',sorted(unique2))\n",
    "\n",
    "# I did some googling for this one- I hope that is ok? 2nd way is probably the simplest? I started to do something like if count of a number in list == 1, then it's only in one list, but then I realized that numbers are repeated in each list\n",
    "#list(set(a).difference(b))"
   ]
  },
  {
   "cell_type": "code",
   "execution_count": 77,
   "id": "ad4f7b2a-5cc1-4a65-a5b5-1f2994f42fab",
   "metadata": {},
   "outputs": [
    {
     "name": "stdout",
     "output_type": "stream",
     "text": [
      "{'January': 7, 'February': 8, 'March': 5, 'April': 5}\n",
      "{'January': 7, 'February': 8, 'March': 5, 'April': 5, 'May': 3}\n",
      "5\n",
      "January has 7 letters\n",
      "February has 8 letters\n",
      "March has 5 letters\n",
      "April has 5 letters\n",
      "May has 3 letters\n"
     ]
    }
   ],
   "source": [
    "# Using the below dictionary\n",
    "# add a new item to the dictionary,\n",
    "# print an element from the dictionary,\n",
    "# print out the message \"<key> has <value> letters\" for every <key>/<value> pair\n",
    "\n",
    "a = {'January': 7, 'February': 8, 'March': 5, 'April': 5}\n",
    "\n",
    "print(a)\n",
    "a['May'] = 3\n",
    "print (a)\n",
    "print(a['March'])\n",
    "\n",
    "for month in a:\n",
    "    print(month,'has',a[month],'letters')"
   ]
  },
  {
   "cell_type": "code",
   "execution_count": 82,
   "id": "3005621c-e50c-436a-a033-9aadae71eafb",
   "metadata": {},
   "outputs": [
    {
     "name": "stdout",
     "output_type": "stream",
     "text": [
      "the first element is 0 and the last element is 5\n",
      "the first element is 99 and the last element is 96\n",
      "the first element is 2 and the last element is 300\n"
     ]
    }
   ],
   "source": [
    "# Write a function that takes as input a list of numbers \n",
    "# and prints a new list of only the first and last elements of the given list.\n",
    "# Execute it with several examples.\n",
    "\n",
    "def firstlast(l):\n",
    "    print('the first element is',l[0],'and the last element is', l[-1])\n",
    "    \n",
    "list1 = [0,1,2,3,4,5]\n",
    "list2 = [99,98,97,96]\n",
    "list3 = [2,3,88,15,67,300]\n",
    "\n",
    "firstlast(list1)\n",
    "firstlast(list2)\n",
    "firstlast(list3)\n"
   ]
  },
  {
   "cell_type": "code",
   "execution_count": 1,
   "id": "4a607e0a-2e1b-4e44-af40-4571f2e0b4f0",
   "metadata": {},
   "outputs": [
    {
     "name": "stdout",
     "output_type": "stream",
     "text": [
      "Yes\n",
      "Yes\n",
      "Yes\n",
      "No\n",
      "Yes\n"
     ]
    }
   ],
   "source": [
    "# Write a function that takes a string as input\n",
    "# and prints out \"Yes\" or \"No\" depending on whether the\n",
    "# string is a palindrome (spelled the same forwards and backwards).  \n",
    "# Execute it with several examples.\n",
    "\n",
    "def palindrometest(word):\n",
    "    word_list = list(word.lower())\n",
    "    revword = list(reversed(word_list))\n",
    "\n",
    "    if word_list == revword:\n",
    "        print('Yes')\n",
    "    else:\n",
    "        print('No')\n",
    "        \n",
    "palindrometest(\"mom\")\n",
    "palindrometest(\"dad\")\n",
    "palindrometest(\"noon\")\n",
    "palindrometest(\"zipper\")\n",
    "palindrometest(\"Hannah\")\n"
   ]
  },
  {
   "cell_type": "markdown",
   "id": "86f9df9a-822a-42be-a778-541173a4fefe",
   "metadata": {},
   "source": [
    "Check out the Python documentation for `random` and `string`:\n",
    "* https://python.readthedocs.io/en/stable/library/random.html\n",
    "* https://python.readthedocs.io/en/stable/library/string.html\n",
    "\n",
    "It's overkill for what you need here, but if you search for the specific attributes and methods mentioned below, you will be able to find useful information."
   ]
  },
  {
   "cell_type": "code",
   "execution_count": 2,
   "id": "c221f184-1e0b-491f-97a8-f9fb30458926",
   "metadata": {},
   "outputs": [
    {
     "name": "stdout",
     "output_type": "stream",
     "text": [
      "0.8117993354112547\n",
      "0.6877533935539063\n",
      "0.9792265550580713\n"
     ]
    }
   ],
   "source": [
    "# Write a function that sets a random seed and prints three random numbers between 0 and 1\n",
    "# You may find it useful to look up:\n",
    "# random.seed and random.random\n",
    "\n",
    "def randomseed_3_btw0and1(seed,repeat):\n",
    "    import random\n",
    "    for i in range(repeat):\n",
    "        #random.seed(seed) #I really don't understand this function or why we would set it to get 3 of the same number?\n",
    "        print(random.random())\n",
    " \n",
    "randomseed_3_btw0and1(4,3)"
   ]
  },
  {
   "cell_type": "code",
   "execution_count": 7,
   "id": "fc7c0629-729b-4c7e-9edb-266fbacb3be7",
   "metadata": {},
   "outputs": [
    {
     "name": "stdout",
     "output_type": "stream",
     "text": [
      "random letter: d\n",
      "random string: siq\n",
      "random string with defined length: psfmh\n"
     ]
    }
   ],
   "source": [
    "# Write a function that takes an integer as input\n",
    "# and prints a random alphabetical character, alphabetical string,\n",
    "# and alphabetical string of a fixed length equal to the input integer.\n",
    "# You may find it useful to look up:\n",
    "# string.ascii_letters, random.randint, random.choice\n",
    "\n",
    "\n",
    "def random_string(string_size):\n",
    "\n",
    "    import string\n",
    "    import random\n",
    "    \n",
    "# store random letter\n",
    "    random_letter = random.choice(string.ascii_lowercase)\n",
    "\n",
    "# store random string\n",
    "    random_size = random.randint(1,26) # length undefined so choose random length with range is number letters in alphabet\n",
    "\n",
    "    random_list_letters = [] # list for random letters (probably a better way to do this..)\n",
    "    for i in range(random_size):\n",
    "        new_letter = random.choice(string.ascii_lowercase)\n",
    "        random_list_letters.append(new_letter)\n",
    "        random_string = \"\".join(random_list_letters)\n",
    "\n",
    "#get string equal to input integer\n",
    "    input_int = string_size\n",
    "    set_list_letters = []\n",
    "    for i in range(input_int):\n",
    "        new_letter = random.choice(string.ascii_lowercase)\n",
    "        set_list_letters.append(new_letter)\n",
    "        random_string_set = \"\".join(set_list_letters)\n",
    "\n",
    "    print(\"random letter:\", random_letter)\n",
    "    print(\"random string:\", random_string)\n",
    "    print(\"random string with defined length:\", random_string_set)\n",
    "\n",
    "random_string(5)\n"
   ]
  },
  {
   "cell_type": "code",
   "execution_count": 5,
   "id": "c738c817-00aa-4597-b5c8-f38af11275cb",
   "metadata": {},
   "outputs": [
    {
     "name": "stdout",
     "output_type": "stream",
     "text": [
      "computer\n",
      "program\n",
      "experience\n",
      "respect\n",
      "performance\n",
      "measure\n",
      "performance\n",
      "measured\n",
      "improves\n",
      "experience\n"
     ]
    }
   ],
   "source": [
    "# Print the words in the following sentence that are longer than 6 characters\n",
    "# Note: you may find it useful to look at \n",
    "# `split` in https://python-reference.readthedocs.io/en/latest/docs/str/\n",
    "\n",
    "ml_sentence = '''\n",
    "A computer program is said to learn \n",
    "from experience E with respect to some class of tasks T \n",
    "and performance measure P if its performance at tasks in T \n",
    "as measured by P improves with experience E.\n",
    "'''\n",
    "\n",
    "words = ml_sentence.split()\n",
    "for word in words:\n",
    "    if len(word) > 6:\n",
    "        print(word)\n",
    "        "
   ]
  },
  {
   "cell_type": "code",
   "execution_count": 8,
   "id": "25e1bc45-95db-4e39-8abf-614660bc17ba",
   "metadata": {},
   "outputs": [
    {
     "name": "stdout",
     "output_type": "stream",
     "text": [
      "measured\n",
      "experience\n",
      "learn\n",
      "to\n",
      "to\n"
     ]
    }
   ],
   "source": [
    "# Print 5 random words from following sentence:\n",
    "\n",
    "ml_sentence = '''\n",
    "A computer program is said to learn \n",
    "from experience E with respect to some class of tasks T \n",
    "and performance measure P if its performance at tasks in T \n",
    "as measured by P improves with experience E.\n",
    "'''\n",
    "\n",
    "import random\n",
    "\n",
    "words = ml_sentence.split()\n",
    "\n",
    "for i in range(5):\n",
    "    print(random.choice(words))"
   ]
  },
  {
   "cell_type": "code",
   "execution_count": 10,
   "id": "8ef4c496-014c-4459-941d-afb431501191",
   "metadata": {},
   "outputs": [
    {
     "name": "stdout",
     "output_type": "stream",
     "text": [
      "{'a': 1, 'computer': 1, 'program': 1, 'is': 1, 'said': 1, 'to': 2, 'learn': 1, 'from': 1, 'experience': 2, 'e': 2, 'with': 2, 'respect': 1, 'some': 1, 'class': 1, 'of': 1, 'tasks': 2, 't': 2, 'and': 1, 'performance': 2, 'measure': 1, 'p': 2, 'if': 1, 'its': 1, 'at': 1, 'in': 1, 'as': 1, 'measured': 1, 'by': 1, 'improves': 1}\n"
     ]
    }
   ],
   "source": [
    "# Using the above 'ml_sentence', make a dictionary with\n",
    "# the dictionary keys equal to the unique words in the sentence,\n",
    "# and the value for each key equal to the number of times each word occurs.\n",
    "# e.g. 'hello my hello friend' would lead to the dictionary {'hello': 2, 'my': 1, 'friend': 1}\n",
    "\n",
    "ml_sentence = '''\n",
    "A computer program is said to learn \n",
    "from experience E with respect to some class of tasks T \n",
    "and performance measure P if its performance at tasks in T \n",
    "as measured by P improves with experience E.\n",
    "'''\n",
    "\n",
    "counts = {}\n",
    "words = ml_sentence.lower().split() #make everything lowercase\n",
    "for word in words:\n",
    "    word = word.rstrip('.') #remove period at end so 'E.'' is counted with 'e'\n",
    "    counts[word] = counts.get(word,0) + 1\n",
    "print(counts)\n"
   ]
  },
  {
   "cell_type": "code",
   "execution_count": 3,
   "id": "33eaaa90-e336-4367-b072-58a8a71dada8",
   "metadata": {},
   "outputs": [
    {
     "ename": "LookupError",
     "evalue": "\n**********************************************************************\n  Resource \u001b[93mpunkt\u001b[0m not found.\n  Please use the NLTK Downloader to obtain the resource:\n\n  \u001b[31m>>> import nltk\n  >>> nltk.download('punkt')\n  \u001b[0m\n  For more information see: https://www.nltk.org/data.html\n\n  Attempted to load \u001b[93mtokenizers/punkt/PY3/english.pickle\u001b[0m\n\n  Searched in:\n    - '/Users/courtney/nltk_data'\n    - '/opt/anaconda3/nltk_data'\n    - '/opt/anaconda3/share/nltk_data'\n    - '/opt/anaconda3/lib/nltk_data'\n    - '/usr/share/nltk_data'\n    - '/usr/local/share/nltk_data'\n    - '/usr/lib/nltk_data'\n    - '/usr/local/lib/nltk_data'\n    - ''\n**********************************************************************\n",
     "output_type": "error",
     "traceback": [
      "\u001b[0;31m---------------------------------------------------------------------------\u001b[0m",
      "\u001b[0;31mLookupError\u001b[0m                               Traceback (most recent call last)",
      "\u001b[0;32m<ipython-input-3-e71970fa74eb>\u001b[0m in \u001b[0;36m<module>\u001b[0;34m\u001b[0m\n\u001b[1;32m     13\u001b[0m \u001b[0mtext_string\u001b[0m \u001b[0;34m=\u001b[0m \u001b[0mresponse\u001b[0m\u001b[0;34m.\u001b[0m\u001b[0mtext\u001b[0m\u001b[0;34m\u001b[0m\u001b[0;34m\u001b[0m\u001b[0m\n\u001b[1;32m     14\u001b[0m \u001b[0mtext_string\u001b[0m \u001b[0;34m=\u001b[0m \u001b[0mtext_string\u001b[0m\u001b[0;34m.\u001b[0m\u001b[0mlower\u001b[0m\u001b[0;34m(\u001b[0m\u001b[0;34m)\u001b[0m\u001b[0;34m\u001b[0m\u001b[0;34m\u001b[0m\u001b[0m\n\u001b[0;32m---> 15\u001b[0;31m \u001b[0mtext_words\u001b[0m \u001b[0;34m=\u001b[0m \u001b[0mword_tokenize\u001b[0m\u001b[0;34m(\u001b[0m\u001b[0mtext_string\u001b[0m\u001b[0;34m)\u001b[0m\u001b[0;34m\u001b[0m\u001b[0;34m\u001b[0m\u001b[0m\n\u001b[0m\u001b[1;32m     16\u001b[0m \u001b[0;34m\u001b[0m\u001b[0m\n\u001b[1;32m     17\u001b[0m \u001b[0;31m# Here we print the first 10 words\u001b[0m\u001b[0;34m\u001b[0m\u001b[0;34m\u001b[0m\u001b[0;34m\u001b[0m\u001b[0m\n",
      "\u001b[0;32m/opt/anaconda3/lib/python3.8/site-packages/nltk/tokenize/__init__.py\u001b[0m in \u001b[0;36mword_tokenize\u001b[0;34m(text, language, preserve_line)\u001b[0m\n\u001b[1;32m    128\u001b[0m     \u001b[0;34m:\u001b[0m\u001b[0mtype\u001b[0m \u001b[0mpreserve_line\u001b[0m\u001b[0;34m:\u001b[0m \u001b[0mbool\u001b[0m\u001b[0;34m\u001b[0m\u001b[0;34m\u001b[0m\u001b[0m\n\u001b[1;32m    129\u001b[0m     \"\"\"\n\u001b[0;32m--> 130\u001b[0;31m     \u001b[0msentences\u001b[0m \u001b[0;34m=\u001b[0m \u001b[0;34m[\u001b[0m\u001b[0mtext\u001b[0m\u001b[0;34m]\u001b[0m \u001b[0;32mif\u001b[0m \u001b[0mpreserve_line\u001b[0m \u001b[0;32melse\u001b[0m \u001b[0msent_tokenize\u001b[0m\u001b[0;34m(\u001b[0m\u001b[0mtext\u001b[0m\u001b[0;34m,\u001b[0m \u001b[0mlanguage\u001b[0m\u001b[0;34m)\u001b[0m\u001b[0;34m\u001b[0m\u001b[0;34m\u001b[0m\u001b[0m\n\u001b[0m\u001b[1;32m    131\u001b[0m     return [\n\u001b[1;32m    132\u001b[0m         \u001b[0mtoken\u001b[0m \u001b[0;32mfor\u001b[0m \u001b[0msent\u001b[0m \u001b[0;32min\u001b[0m \u001b[0msentences\u001b[0m \u001b[0;32mfor\u001b[0m \u001b[0mtoken\u001b[0m \u001b[0;32min\u001b[0m \u001b[0m_treebank_word_tokenizer\u001b[0m\u001b[0;34m.\u001b[0m\u001b[0mtokenize\u001b[0m\u001b[0;34m(\u001b[0m\u001b[0msent\u001b[0m\u001b[0;34m)\u001b[0m\u001b[0;34m\u001b[0m\u001b[0;34m\u001b[0m\u001b[0m\n",
      "\u001b[0;32m/opt/anaconda3/lib/python3.8/site-packages/nltk/tokenize/__init__.py\u001b[0m in \u001b[0;36msent_tokenize\u001b[0;34m(text, language)\u001b[0m\n\u001b[1;32m    105\u001b[0m     \u001b[0;34m:\u001b[0m\u001b[0mparam\u001b[0m \u001b[0mlanguage\u001b[0m\u001b[0;34m:\u001b[0m \u001b[0mthe\u001b[0m \u001b[0mmodel\u001b[0m \u001b[0mname\u001b[0m \u001b[0;32min\u001b[0m \u001b[0mthe\u001b[0m \u001b[0mPunkt\u001b[0m \u001b[0mcorpus\u001b[0m\u001b[0;34m\u001b[0m\u001b[0;34m\u001b[0m\u001b[0m\n\u001b[1;32m    106\u001b[0m     \"\"\"\n\u001b[0;32m--> 107\u001b[0;31m     \u001b[0mtokenizer\u001b[0m \u001b[0;34m=\u001b[0m \u001b[0mload\u001b[0m\u001b[0;34m(\u001b[0m\u001b[0;34m\"tokenizers/punkt/{0}.pickle\"\u001b[0m\u001b[0;34m.\u001b[0m\u001b[0mformat\u001b[0m\u001b[0;34m(\u001b[0m\u001b[0mlanguage\u001b[0m\u001b[0;34m)\u001b[0m\u001b[0;34m)\u001b[0m\u001b[0;34m\u001b[0m\u001b[0;34m\u001b[0m\u001b[0m\n\u001b[0m\u001b[1;32m    108\u001b[0m     \u001b[0;32mreturn\u001b[0m \u001b[0mtokenizer\u001b[0m\u001b[0;34m.\u001b[0m\u001b[0mtokenize\u001b[0m\u001b[0;34m(\u001b[0m\u001b[0mtext\u001b[0m\u001b[0;34m)\u001b[0m\u001b[0;34m\u001b[0m\u001b[0;34m\u001b[0m\u001b[0m\n\u001b[1;32m    109\u001b[0m \u001b[0;34m\u001b[0m\u001b[0m\n",
      "\u001b[0;32m/opt/anaconda3/lib/python3.8/site-packages/nltk/data.py\u001b[0m in \u001b[0;36mload\u001b[0;34m(resource_url, format, cache, verbose, logic_parser, fstruct_reader, encoding)\u001b[0m\n\u001b[1;32m    748\u001b[0m \u001b[0;34m\u001b[0m\u001b[0m\n\u001b[1;32m    749\u001b[0m     \u001b[0;31m# Load the resource.\u001b[0m\u001b[0;34m\u001b[0m\u001b[0;34m\u001b[0m\u001b[0;34m\u001b[0m\u001b[0m\n\u001b[0;32m--> 750\u001b[0;31m     \u001b[0mopened_resource\u001b[0m \u001b[0;34m=\u001b[0m \u001b[0m_open\u001b[0m\u001b[0;34m(\u001b[0m\u001b[0mresource_url\u001b[0m\u001b[0;34m)\u001b[0m\u001b[0;34m\u001b[0m\u001b[0;34m\u001b[0m\u001b[0m\n\u001b[0m\u001b[1;32m    751\u001b[0m \u001b[0;34m\u001b[0m\u001b[0m\n\u001b[1;32m    752\u001b[0m     \u001b[0;32mif\u001b[0m \u001b[0mformat\u001b[0m \u001b[0;34m==\u001b[0m \u001b[0;34m\"raw\"\u001b[0m\u001b[0;34m:\u001b[0m\u001b[0;34m\u001b[0m\u001b[0;34m\u001b[0m\u001b[0m\n",
      "\u001b[0;32m/opt/anaconda3/lib/python3.8/site-packages/nltk/data.py\u001b[0m in \u001b[0;36m_open\u001b[0;34m(resource_url)\u001b[0m\n\u001b[1;32m    873\u001b[0m \u001b[0;34m\u001b[0m\u001b[0m\n\u001b[1;32m    874\u001b[0m     \u001b[0;32mif\u001b[0m \u001b[0mprotocol\u001b[0m \u001b[0;32mis\u001b[0m \u001b[0;32mNone\u001b[0m \u001b[0;32mor\u001b[0m \u001b[0mprotocol\u001b[0m\u001b[0;34m.\u001b[0m\u001b[0mlower\u001b[0m\u001b[0;34m(\u001b[0m\u001b[0;34m)\u001b[0m \u001b[0;34m==\u001b[0m \u001b[0;34m\"nltk\"\u001b[0m\u001b[0;34m:\u001b[0m\u001b[0;34m\u001b[0m\u001b[0;34m\u001b[0m\u001b[0m\n\u001b[0;32m--> 875\u001b[0;31m         \u001b[0;32mreturn\u001b[0m \u001b[0mfind\u001b[0m\u001b[0;34m(\u001b[0m\u001b[0mpath_\u001b[0m\u001b[0;34m,\u001b[0m \u001b[0mpath\u001b[0m \u001b[0;34m+\u001b[0m \u001b[0;34m[\u001b[0m\u001b[0;34m\"\"\u001b[0m\u001b[0;34m]\u001b[0m\u001b[0;34m)\u001b[0m\u001b[0;34m.\u001b[0m\u001b[0mopen\u001b[0m\u001b[0;34m(\u001b[0m\u001b[0;34m)\u001b[0m\u001b[0;34m\u001b[0m\u001b[0;34m\u001b[0m\u001b[0m\n\u001b[0m\u001b[1;32m    876\u001b[0m     \u001b[0;32melif\u001b[0m \u001b[0mprotocol\u001b[0m\u001b[0;34m.\u001b[0m\u001b[0mlower\u001b[0m\u001b[0;34m(\u001b[0m\u001b[0;34m)\u001b[0m \u001b[0;34m==\u001b[0m \u001b[0;34m\"file\"\u001b[0m\u001b[0;34m:\u001b[0m\u001b[0;34m\u001b[0m\u001b[0;34m\u001b[0m\u001b[0m\n\u001b[1;32m    877\u001b[0m         \u001b[0;31m# urllib might not use mode='rb', so handle this one ourselves:\u001b[0m\u001b[0;34m\u001b[0m\u001b[0;34m\u001b[0m\u001b[0;34m\u001b[0m\u001b[0m\n",
      "\u001b[0;32m/opt/anaconda3/lib/python3.8/site-packages/nltk/data.py\u001b[0m in \u001b[0;36mfind\u001b[0;34m(resource_name, paths)\u001b[0m\n\u001b[1;32m    581\u001b[0m     \u001b[0msep\u001b[0m \u001b[0;34m=\u001b[0m \u001b[0;34m\"*\"\u001b[0m \u001b[0;34m*\u001b[0m \u001b[0;36m70\u001b[0m\u001b[0;34m\u001b[0m\u001b[0;34m\u001b[0m\u001b[0m\n\u001b[1;32m    582\u001b[0m     \u001b[0mresource_not_found\u001b[0m \u001b[0;34m=\u001b[0m \u001b[0;34m\"\\n%s\\n%s\\n%s\\n\"\u001b[0m \u001b[0;34m%\u001b[0m \u001b[0;34m(\u001b[0m\u001b[0msep\u001b[0m\u001b[0;34m,\u001b[0m \u001b[0mmsg\u001b[0m\u001b[0;34m,\u001b[0m \u001b[0msep\u001b[0m\u001b[0;34m)\u001b[0m\u001b[0;34m\u001b[0m\u001b[0;34m\u001b[0m\u001b[0m\n\u001b[0;32m--> 583\u001b[0;31m     \u001b[0;32mraise\u001b[0m \u001b[0mLookupError\u001b[0m\u001b[0;34m(\u001b[0m\u001b[0mresource_not_found\u001b[0m\u001b[0;34m)\u001b[0m\u001b[0;34m\u001b[0m\u001b[0;34m\u001b[0m\u001b[0m\n\u001b[0m\u001b[1;32m    584\u001b[0m \u001b[0;34m\u001b[0m\u001b[0m\n\u001b[1;32m    585\u001b[0m \u001b[0;34m\u001b[0m\u001b[0m\n",
      "\u001b[0;31mLookupError\u001b[0m: \n**********************************************************************\n  Resource \u001b[93mpunkt\u001b[0m not found.\n  Please use the NLTK Downloader to obtain the resource:\n\n  \u001b[31m>>> import nltk\n  >>> nltk.download('punkt')\n  \u001b[0m\n  For more information see: https://www.nltk.org/data.html\n\n  Attempted to load \u001b[93mtokenizers/punkt/PY3/english.pickle\u001b[0m\n\n  Searched in:\n    - '/Users/courtney/nltk_data'\n    - '/opt/anaconda3/nltk_data'\n    - '/opt/anaconda3/share/nltk_data'\n    - '/opt/anaconda3/lib/nltk_data'\n    - '/usr/share/nltk_data'\n    - '/usr/local/share/nltk_data'\n    - '/usr/lib/nltk_data'\n    - '/usr/local/lib/nltk_data'\n    - ''\n**********************************************************************\n"
     ]
    }
   ],
   "source": [
    "# Time to roll up our sleeves and make a similar dictionary for all the words in Macbeth.\n",
    "# I am going to do the first part (and you can execute this cell as is to see what happens),\n",
    "# you just need to adapt your code from above to make the dictionary at the end\n",
    "\n",
    "# Here we import libraries that can grab data from the web (via requests) and form a list of words using NLTK.\n",
    "import requests\n",
    "from nltk.tokenize import word_tokenize\n",
    "\n",
    "# Here we get the text of Macbeth from Project Gutenberg (https://www.gutenberg.org/) \n",
    "# and \"tokenize\" the text (split it up into words)\n",
    "target_url = \"https://www.gutenberg.org/files/1533/1533-0.txt\"\n",
    "response = requests.get(target_url)\n",
    "text_string = response.text\n",
    "text_string = text_string.lower()\n",
    "text_words = word_tokenize(text_string)\n",
    "\n",
    "# Here we print the first 10 words\n",
    "print(text_words[0:10])\n",
    "\n",
    "# Put in your code here to make the dictionary with the <word> : <word counts> pairs\n",
    "\n",
    "\n",
    "# Check out some entries in the dictionary (such as 'Macbeth', 'sword', 'thy')\n",
    "\n"
   ]
  },
  {
   "cell_type": "markdown",
   "id": "4940bcc8-b6db-4ddd-a0ec-3dcdf5fa4183",
   "metadata": {},
   "source": [
    "# End"
   ]
  }
 ],
 "metadata": {
  "kernelspec": {
   "display_name": "Python 3",
   "language": "python",
   "name": "python3"
  },
  "language_info": {
   "codemirror_mode": {
    "name": "ipython",
    "version": 3
   },
   "file_extension": ".py",
   "mimetype": "text/x-python",
   "name": "python",
   "nbconvert_exporter": "python",
   "pygments_lexer": "ipython3",
   "version": "3.8.8"
  }
 },
 "nbformat": 4,
 "nbformat_minor": 5
}
