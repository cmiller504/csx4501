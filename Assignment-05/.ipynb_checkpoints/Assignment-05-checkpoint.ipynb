{
 "cells": [
  {
   "cell_type": "markdown",
   "id": "2ebbdb17-46aa-4929-ad53-cc9f1d9f7a47",
   "metadata": {},
   "source": [
    "# Assignment 05 - Descriptive stats and plotting"
   ]
  },
  {
   "cell_type": "markdown",
   "id": "4d8979e2-37b7-4234-b381-32b4ad3c5d9e",
   "metadata": {},
   "source": [
    "**load libaries and data**\n",
    "\n",
    "[link to data](https://corgis-edu.github.io/corgis/csv/food/)"
   ]
  },
  {
   "cell_type": "code",
   "execution_count": 32,
   "id": "9fc26fd0-1c65-4633-bfff-0b08f73342be",
   "metadata": {},
   "outputs": [],
   "source": [
    "import pandas as pd\n",
    "import numpy as np"
   ]
  },
  {
   "cell_type": "code",
   "execution_count": 3,
   "id": "75e312c7-24ea-484e-b3eb-e8f5bebd4b73",
   "metadata": {},
   "outputs": [],
   "source": [
    "df = pd.read_csv('food.csv')"
   ]
  },
  {
   "cell_type": "code",
   "execution_count": 4,
   "id": "733b9435-16cb-4d92-9e5a-2566d39d25aa",
   "metadata": {},
   "outputs": [
    {
     "data": {
      "text/html": [
       "<div>\n",
       "<style scoped>\n",
       "    .dataframe tbody tr th:only-of-type {\n",
       "        vertical-align: middle;\n",
       "    }\n",
       "\n",
       "    .dataframe tbody tr th {\n",
       "        vertical-align: top;\n",
       "    }\n",
       "\n",
       "    .dataframe thead th {\n",
       "        text-align: right;\n",
       "    }\n",
       "</style>\n",
       "<table border=\"1\" class=\"dataframe\">\n",
       "  <thead>\n",
       "    <tr style=\"text-align: right;\">\n",
       "      <th></th>\n",
       "      <th>Nutrient Data Bank Number</th>\n",
       "      <th>Data.Alpha Carotene</th>\n",
       "      <th>Data.Beta Carotene</th>\n",
       "      <th>Data.Beta Cryptoxanthin</th>\n",
       "      <th>Data.Carbohydrate</th>\n",
       "      <th>Data.Cholesterol</th>\n",
       "      <th>Data.Choline</th>\n",
       "      <th>Data.Fiber</th>\n",
       "      <th>Data.Lutein and Zeaxanthin</th>\n",
       "      <th>Data.Lycopene</th>\n",
       "      <th>...</th>\n",
       "      <th>Data.Major Minerals.Phosphorus</th>\n",
       "      <th>Data.Major Minerals.Potassium</th>\n",
       "      <th>Data.Major Minerals.Sodium</th>\n",
       "      <th>Data.Major Minerals.Zinc</th>\n",
       "      <th>Data.Vitamins.Vitamin A - RAE</th>\n",
       "      <th>Data.Vitamins.Vitamin B12</th>\n",
       "      <th>Data.Vitamins.Vitamin B6</th>\n",
       "      <th>Data.Vitamins.Vitamin C</th>\n",
       "      <th>Data.Vitamins.Vitamin E</th>\n",
       "      <th>Data.Vitamins.Vitamin K</th>\n",
       "    </tr>\n",
       "  </thead>\n",
       "  <tbody>\n",
       "    <tr>\n",
       "      <th>count</th>\n",
       "      <td>7.083000e+03</td>\n",
       "      <td>7083.000000</td>\n",
       "      <td>7083.000000</td>\n",
       "      <td>7083.000000</td>\n",
       "      <td>7083.000000</td>\n",
       "      <td>7083.000000</td>\n",
       "      <td>7083.000000</td>\n",
       "      <td>7083.000000</td>\n",
       "      <td>7083.000000</td>\n",
       "      <td>7083.000000</td>\n",
       "      <td>...</td>\n",
       "      <td>7083.000000</td>\n",
       "      <td>7083.000000</td>\n",
       "      <td>7083.000000</td>\n",
       "      <td>7083.000000</td>\n",
       "      <td>7083.000000</td>\n",
       "      <td>7083.000000</td>\n",
       "      <td>7083.000000</td>\n",
       "      <td>7083.000000</td>\n",
       "      <td>7083.000000</td>\n",
       "      <td>7083.000000</td>\n",
       "    </tr>\n",
       "    <tr>\n",
       "      <th>mean</th>\n",
       "      <td>4.884965e+07</td>\n",
       "      <td>43.759283</td>\n",
       "      <td>255.363405</td>\n",
       "      <td>4.862346</td>\n",
       "      <td>20.828039</td>\n",
       "      <td>34.458845</td>\n",
       "      <td>34.440802</td>\n",
       "      <td>1.703840</td>\n",
       "      <td>213.351687</td>\n",
       "      <td>263.571933</td>\n",
       "      <td>...</td>\n",
       "      <td>133.088945</td>\n",
       "      <td>217.127488</td>\n",
       "      <td>340.503459</td>\n",
       "      <td>1.281451</td>\n",
       "      <td>73.139065</td>\n",
       "      <td>0.705177</td>\n",
       "      <td>0.197528</td>\n",
       "      <td>5.696216</td>\n",
       "      <td>1.086955</td>\n",
       "      <td>14.206607</td>\n",
       "    </tr>\n",
       "    <tr>\n",
       "      <th>std</th>\n",
       "      <td>2.425159e+07</td>\n",
       "      <td>259.520139</td>\n",
       "      <td>995.709951</td>\n",
       "      <td>38.047657</td>\n",
       "      <td>21.887363</td>\n",
       "      <td>77.479105</td>\n",
       "      <td>43.901497</td>\n",
       "      <td>2.558168</td>\n",
       "      <td>1015.888615</td>\n",
       "      <td>1161.245139</td>\n",
       "      <td>...</td>\n",
       "      <td>126.498700</td>\n",
       "      <td>204.812523</td>\n",
       "      <td>350.333632</td>\n",
       "      <td>2.917233</td>\n",
       "      <td>241.913126</td>\n",
       "      <td>2.502821</td>\n",
       "      <td>0.374608</td>\n",
       "      <td>15.548490</td>\n",
       "      <td>3.133890</td>\n",
       "      <td>54.944096</td>\n",
       "    </tr>\n",
       "    <tr>\n",
       "      <th>min</th>\n",
       "      <td>1.100000e+07</td>\n",
       "      <td>0.000000</td>\n",
       "      <td>0.000000</td>\n",
       "      <td>0.000000</td>\n",
       "      <td>0.000000</td>\n",
       "      <td>0.000000</td>\n",
       "      <td>0.000000</td>\n",
       "      <td>0.000000</td>\n",
       "      <td>0.000000</td>\n",
       "      <td>0.000000</td>\n",
       "      <td>...</td>\n",
       "      <td>0.000000</td>\n",
       "      <td>0.000000</td>\n",
       "      <td>0.000000</td>\n",
       "      <td>0.000000</td>\n",
       "      <td>0.000000</td>\n",
       "      <td>0.000000</td>\n",
       "      <td>0.000000</td>\n",
       "      <td>0.000000</td>\n",
       "      <td>0.000000</td>\n",
       "      <td>0.000000</td>\n",
       "    </tr>\n",
       "    <tr>\n",
       "      <th>25%</th>\n",
       "      <td>2.715077e+07</td>\n",
       "      <td>0.000000</td>\n",
       "      <td>0.000000</td>\n",
       "      <td>0.000000</td>\n",
       "      <td>5.650000</td>\n",
       "      <td>0.000000</td>\n",
       "      <td>10.000000</td>\n",
       "      <td>0.100000</td>\n",
       "      <td>0.000000</td>\n",
       "      <td>0.000000</td>\n",
       "      <td>...</td>\n",
       "      <td>48.000000</td>\n",
       "      <td>111.000000</td>\n",
       "      <td>124.000000</td>\n",
       "      <td>0.360000</td>\n",
       "      <td>2.000000</td>\n",
       "      <td>0.000000</td>\n",
       "      <td>0.052000</td>\n",
       "      <td>0.000000</td>\n",
       "      <td>0.230000</td>\n",
       "      <td>0.800000</td>\n",
       "    </tr>\n",
       "    <tr>\n",
       "      <th>50%</th>\n",
       "      <td>5.326020e+07</td>\n",
       "      <td>0.000000</td>\n",
       "      <td>8.000000</td>\n",
       "      <td>0.000000</td>\n",
       "      <td>13.300000</td>\n",
       "      <td>8.000000</td>\n",
       "      <td>19.600000</td>\n",
       "      <td>1.000000</td>\n",
       "      <td>18.000000</td>\n",
       "      <td>0.000000</td>\n",
       "      <td>...</td>\n",
       "      <td>102.000000</td>\n",
       "      <td>183.000000</td>\n",
       "      <td>313.000000</td>\n",
       "      <td>0.680000</td>\n",
       "      <td>20.000000</td>\n",
       "      <td>0.180000</td>\n",
       "      <td>0.110000</td>\n",
       "      <td>0.700000</td>\n",
       "      <td>0.550000</td>\n",
       "      <td>3.800000</td>\n",
       "    </tr>\n",
       "    <tr>\n",
       "      <th>75%</th>\n",
       "      <td>6.720345e+07</td>\n",
       "      <td>1.000000</td>\n",
       "      <td>73.000000</td>\n",
       "      <td>1.000000</td>\n",
       "      <td>26.195000</td>\n",
       "      <td>46.000000</td>\n",
       "      <td>44.200000</td>\n",
       "      <td>2.100000</td>\n",
       "      <td>81.000000</td>\n",
       "      <td>0.000000</td>\n",
       "      <td>...</td>\n",
       "      <td>189.000000</td>\n",
       "      <td>270.500000</td>\n",
       "      <td>454.000000</td>\n",
       "      <td>1.360000</td>\n",
       "      <td>61.000000</td>\n",
       "      <td>0.550000</td>\n",
       "      <td>0.203000</td>\n",
       "      <td>5.300000</td>\n",
       "      <td>1.110000</td>\n",
       "      <td>9.300000</td>\n",
       "    </tr>\n",
       "    <tr>\n",
       "      <th>max</th>\n",
       "      <td>9.999821e+07</td>\n",
       "      <td>4655.000000</td>\n",
       "      <td>14134.000000</td>\n",
       "      <td>1922.000000</td>\n",
       "      <td>100.000000</td>\n",
       "      <td>3074.000000</td>\n",
       "      <td>820.200000</td>\n",
       "      <td>46.200000</td>\n",
       "      <td>15643.000000</td>\n",
       "      <td>45902.000000</td>\n",
       "      <td>...</td>\n",
       "      <td>1429.000000</td>\n",
       "      <td>6040.000000</td>\n",
       "      <td>7851.000000</td>\n",
       "      <td>98.860000</td>\n",
       "      <td>9363.000000</td>\n",
       "      <td>82.440000</td>\n",
       "      <td>12.000000</td>\n",
       "      <td>560.000000</td>\n",
       "      <td>149.400000</td>\n",
       "      <td>1640.000000</td>\n",
       "    </tr>\n",
       "  </tbody>\n",
       "</table>\n",
       "<p>8 rows × 36 columns</p>\n",
       "</div>"
      ],
      "text/plain": [
       "       Nutrient Data Bank Number  Data.Alpha Carotene  Data.Beta Carotene  \\\n",
       "count               7.083000e+03          7083.000000         7083.000000   \n",
       "mean                4.884965e+07            43.759283          255.363405   \n",
       "std                 2.425159e+07           259.520139          995.709951   \n",
       "min                 1.100000e+07             0.000000            0.000000   \n",
       "25%                 2.715077e+07             0.000000            0.000000   \n",
       "50%                 5.326020e+07             0.000000            8.000000   \n",
       "75%                 6.720345e+07             1.000000           73.000000   \n",
       "max                 9.999821e+07          4655.000000        14134.000000   \n",
       "\n",
       "       Data.Beta Cryptoxanthin  Data.Carbohydrate  Data.Cholesterol  \\\n",
       "count              7083.000000        7083.000000       7083.000000   \n",
       "mean                  4.862346          20.828039         34.458845   \n",
       "std                  38.047657          21.887363         77.479105   \n",
       "min                   0.000000           0.000000          0.000000   \n",
       "25%                   0.000000           5.650000          0.000000   \n",
       "50%                   0.000000          13.300000          8.000000   \n",
       "75%                   1.000000          26.195000         46.000000   \n",
       "max                1922.000000         100.000000       3074.000000   \n",
       "\n",
       "       Data.Choline   Data.Fiber  Data.Lutein and Zeaxanthin  Data.Lycopene  \\\n",
       "count   7083.000000  7083.000000                 7083.000000    7083.000000   \n",
       "mean      34.440802     1.703840                  213.351687     263.571933   \n",
       "std       43.901497     2.558168                 1015.888615    1161.245139   \n",
       "min        0.000000     0.000000                    0.000000       0.000000   \n",
       "25%       10.000000     0.100000                    0.000000       0.000000   \n",
       "50%       19.600000     1.000000                   18.000000       0.000000   \n",
       "75%       44.200000     2.100000                   81.000000       0.000000   \n",
       "max      820.200000    46.200000                15643.000000   45902.000000   \n",
       "\n",
       "       ...  Data.Major Minerals.Phosphorus  Data.Major Minerals.Potassium  \\\n",
       "count  ...                     7083.000000                    7083.000000   \n",
       "mean   ...                      133.088945                     217.127488   \n",
       "std    ...                      126.498700                     204.812523   \n",
       "min    ...                        0.000000                       0.000000   \n",
       "25%    ...                       48.000000                     111.000000   \n",
       "50%    ...                      102.000000                     183.000000   \n",
       "75%    ...                      189.000000                     270.500000   \n",
       "max    ...                     1429.000000                    6040.000000   \n",
       "\n",
       "       Data.Major Minerals.Sodium  Data.Major Minerals.Zinc  \\\n",
       "count                 7083.000000               7083.000000   \n",
       "mean                   340.503459                  1.281451   \n",
       "std                    350.333632                  2.917233   \n",
       "min                      0.000000                  0.000000   \n",
       "25%                    124.000000                  0.360000   \n",
       "50%                    313.000000                  0.680000   \n",
       "75%                    454.000000                  1.360000   \n",
       "max                   7851.000000                 98.860000   \n",
       "\n",
       "       Data.Vitamins.Vitamin A - RAE  Data.Vitamins.Vitamin B12  \\\n",
       "count                    7083.000000                7083.000000   \n",
       "mean                       73.139065                   0.705177   \n",
       "std                       241.913126                   2.502821   \n",
       "min                         0.000000                   0.000000   \n",
       "25%                         2.000000                   0.000000   \n",
       "50%                        20.000000                   0.180000   \n",
       "75%                        61.000000                   0.550000   \n",
       "max                      9363.000000                  82.440000   \n",
       "\n",
       "       Data.Vitamins.Vitamin B6  Data.Vitamins.Vitamin C  \\\n",
       "count               7083.000000              7083.000000   \n",
       "mean                   0.197528                 5.696216   \n",
       "std                    0.374608                15.548490   \n",
       "min                    0.000000                 0.000000   \n",
       "25%                    0.052000                 0.000000   \n",
       "50%                    0.110000                 0.700000   \n",
       "75%                    0.203000                 5.300000   \n",
       "max                   12.000000               560.000000   \n",
       "\n",
       "       Data.Vitamins.Vitamin E  Data.Vitamins.Vitamin K  \n",
       "count              7083.000000              7083.000000  \n",
       "mean                  1.086955                14.206607  \n",
       "std                   3.133890                54.944096  \n",
       "min                   0.000000                 0.000000  \n",
       "25%                   0.230000                 0.800000  \n",
       "50%                   0.550000                 3.800000  \n",
       "75%                   1.110000                 9.300000  \n",
       "max                 149.400000              1640.000000  \n",
       "\n",
       "[8 rows x 36 columns]"
      ]
     },
     "execution_count": 4,
     "metadata": {},
     "output_type": "execute_result"
    }
   ],
   "source": [
    "df.describe()"
   ]
  },
  {
   "cell_type": "markdown",
   "id": "1da5eccb-34fb-4dd3-bbd3-1f339a18fbfd",
   "metadata": {},
   "source": [
    "**calculate the mean, median, mode, and trimmed mean of carbohydrate column**"
   ]
  },
  {
   "cell_type": "code",
   "execution_count": 5,
   "id": "248af43e-e946-4f21-bee6-19dd8e6032a5",
   "metadata": {},
   "outputs": [
    {
     "data": {
      "text/plain": [
       "20.82803896653962"
      ]
     },
     "execution_count": 5,
     "metadata": {},
     "output_type": "execute_result"
    }
   ],
   "source": [
    "df['Data.Carbohydrate'].mean()"
   ]
  },
  {
   "cell_type": "code",
   "execution_count": 6,
   "id": "9b169f52-eeb7-47df-b79b-145013ac0286",
   "metadata": {},
   "outputs": [
    {
     "data": {
      "text/plain": [
       "13.3"
      ]
     },
     "execution_count": 6,
     "metadata": {},
     "output_type": "execute_result"
    }
   ],
   "source": [
    "df['Data.Carbohydrate'].median()"
   ]
  },
  {
   "cell_type": "code",
   "execution_count": 7,
   "id": "d5aa9731-d960-4407-8c0c-dcf2ec2b5c29",
   "metadata": {},
   "outputs": [
    {
     "data": {
      "text/plain": [
       "0    0.0\n",
       "dtype: float64"
      ]
     },
     "execution_count": 7,
     "metadata": {},
     "output_type": "execute_result"
    }
   ],
   "source": [
    "df['Data.Carbohydrate'].mode()"
   ]
  },
  {
   "cell_type": "code",
   "execution_count": 12,
   "id": "8b73a679-527c-44cb-a057-c1f01f2d3a08",
   "metadata": {},
   "outputs": [
    {
     "data": {
      "text/plain": [
       "0         0.00\n",
       "1         0.00\n",
       "2         0.00\n",
       "3         0.00\n",
       "4         0.00\n",
       "         ...  \n",
       "7078     99.60\n",
       "7079     99.60\n",
       "7080     99.77\n",
       "7081    100.00\n",
       "7082    100.00\n",
       "Name: Data.Carbohydrate, Length: 7083, dtype: float64"
      ]
     },
     "execution_count": 12,
     "metadata": {},
     "output_type": "execute_result"
    }
   ],
   "source": [
    "# copy dataset, sortign by column of interest\n",
    "df2 = df.sort_values(by='Data.Carbohydrate',ignore_index=True).copy()\n",
    "df2['Data.Carbohydrate']"
   ]
  },
  {
   "cell_type": "code",
   "execution_count": 13,
   "id": "c4eba3c7-6f67-4803-a19e-28196a894041",
   "metadata": {},
   "outputs": [
    {
     "data": {
      "text/plain": [
       "16.89091775503001"
      ]
     },
     "execution_count": 13,
     "metadata": {},
     "output_type": "execute_result"
    }
   ],
   "source": [
    "# get the trimmed mean by ignoreing the first 10% and last 10% of data\n",
    "df2.loc[int(0.1*7082):int(0.9*7082),'Data.Carbohydrate'].mean()"
   ]
  },
  {
   "cell_type": "markdown",
   "id": "1ee16fea-88db-4131-8e96-4a22872bcb28",
   "metadata": {},
   "source": [
    "**Histogram of carbohydrate data (with comments on the relative locations of the mean, median, mode, and trimmed mean)**"
   ]
  },
  {
   "cell_type": "code",
   "execution_count": 19,
   "id": "054c87d9-6553-4c7f-bf0e-4ebb2b1a51c9",
   "metadata": {},
   "outputs": [
    {
     "data": {
      "image/png": "[encoded data removed]",
      "text/plain": [
       "<Figure size 432x288 with 1 Axes>"
      ]
     },
     "metadata": {
      "needs_background": "light"
     },
     "output_type": "display_data"
    }
   ],
   "source": [
    "df['Data.Carbohydrate'].hist(bins=30);"
   ]
  },
  {
   "cell_type": "markdown",
   "id": "a1221036-da57-4311-806b-d422fba7e835",
   "metadata": {},
   "source": [
    "NOTES: the mode of 0 is most obvious in the far left of the histogram. the other measures of central tendency are heavily skewed by the disproportionately high frequency of low values. The median (13), trimmed mean (16), and mean (20) are in that order from the left."
   ]
  },
  {
   "cell_type": "markdown",
   "id": "5497e515-b562-408e-a0fb-3126a4f0ac85",
   "metadata": {},
   "source": [
    "**calculations for mean absolute deviation, the standard deviation, and the interquartile range (the difference of the 75% and 25% quantile)\n",
    "(with notes on how they compare to each other and to the histogram plot**"
   ]
  },
  {
   "cell_type": "code",
   "execution_count": 21,
   "id": "ca702d45-159c-4a03-99c0-f30a25dfdb83",
   "metadata": {},
   "outputs": [
    {
     "data": {
      "text/plain": [
       "16.532441492575266"
      ]
     },
     "execution_count": 21,
     "metadata": {},
     "output_type": "execute_result"
    }
   ],
   "source": [
    "df['Data.Carbohydrate'].mad()"
   ]
  },
  {
   "cell_type": "code",
   "execution_count": 20,
   "id": "40c06386-eb75-44a7-a71a-1b49a3bcb464",
   "metadata": {},
   "outputs": [
    {
     "data": {
      "text/plain": [
       "21.88736257536951"
      ]
     },
     "execution_count": 20,
     "metadata": {},
     "output_type": "execute_result"
    }
   ],
   "source": [
    "df['Data.Carbohydrate'].std()"
   ]
  },
  {
   "cell_type": "code",
   "execution_count": 23,
   "id": "dbb66814-f176-4c54-8113-23c878d1d04e",
   "metadata": {},
   "outputs": [
    {
     "data": {
      "text/plain": [
       "20.545"
      ]
     },
     "execution_count": 23,
     "metadata": {},
     "output_type": "execute_result"
    }
   ],
   "source": [
    "df['Data.Carbohydrate'].quantile(0.75) - df['Data.Carbohydrate'].quantile(0.25)\n"
   ]
  },
  {
   "cell_type": "code",
   "execution_count": 27,
   "id": "8bbc3c85-e665-4c27-acd3-74ca774d8149",
   "metadata": {},
   "outputs": [
    {
     "data": {
      "text/plain": [
       "5.65"
      ]
     },
     "execution_count": 27,
     "metadata": {},
     "output_type": "execute_result"
    }
   ],
   "source": [
    "df['Data.Carbohydrate'].quantile(0.25)"
   ]
  },
  {
   "cell_type": "markdown",
   "id": "6058c3d9-e916-4f38-a8d3-cb7861311602",
   "metadata": {},
   "source": [
    "the mean absolute deviation is about 16, so on average each point deviates from the mean by 16, that seem pretty low considering the range of values, however again, the data is skewed such there is an excessively high frequency of low values (mostly 0). The standard deviation is a littl ebit higher (about 21), which is pretty close the intergartile range."
   ]
  },
  {
   "cell_type": "markdown",
   "id": "48c9de18-30a5-4c80-aa91-3ceee09d6321",
   "metadata": {},
   "source": [
    "**Box plot of carbohydrate column (with notes on how the locations of the calculated median and the 25% and 75% quantiles match with features in the plot)**"
   ]
  },
  {
   "cell_type": "code",
   "execution_count": 25,
   "id": "c4cebea3-6b67-464a-9752-8b217fce5218",
   "metadata": {},
   "outputs": [
    {
     "data": {
      "image/png": "[encoded data removed]",
      "text/plain": [
       "<Figure size 432x288 with 1 Axes>"
      ]
     },
     "metadata": {
      "needs_background": "light"
     },
     "output_type": "display_data"
    }
   ],
   "source": [
    "df['Data.Carbohydrate'].plot(kind='box');"
   ]
  },
  {
   "cell_type": "markdown",
   "id": "8a1400c1-f469-47da-a7f2-3a5de45dcb68",
   "metadata": {},
   "source": [
    "the box plot shows that the median does look to be about 13, and the 25% and 75% quantiles to be about 5 and 25, respecitively (so ~25 - ~5 = ~20 for interquartile range; also when we actually calc these values they are 26.125 and 5.65). Maybe most importantly, this plot indicates that a large number of values over ~60 may be outliers."
   ]
  },
  {
   "cell_type": "markdown",
   "id": "7e55b13b-d33c-484a-afbc-ed4e3305ce22",
   "metadata": {},
   "source": [
    "**making a new column in the dataframe where values are equal to either 0, 1, or 2.**  \n",
    "\n",
    "**For any given row:**\n",
    "\n",
    "**If the COL1 value < 0.5 * (COL1 mean), set the COL1_mean_split value to 0**\n",
    "\n",
    "**If the COL1 value >= 0.5 * (COL1 mean) and COL1 value < (COL1 mean), set the COL1_mean_split value to 1**\n",
    "\n",
    "**If the COL1 value >= (COL1 mean), set the COL1_mean_split value to 2**"
   ]
  },
  {
   "cell_type": "code",
   "execution_count": 29,
   "id": "1fe724d4-ea37-4488-a95a-4b91a8251cee",
   "metadata": {},
   "outputs": [
    {
     "data": {
      "text/plain": [
       "20.82803896653962"
      ]
     },
     "execution_count": 29,
     "metadata": {},
     "output_type": "execute_result"
    }
   ],
   "source": [
    "df['Data.Carbohydrate'].mean()"
   ]
  },
  {
   "cell_type": "code",
   "execution_count": 28,
   "id": "a3fc645a-9815-4c9d-bac4-926594093859",
   "metadata": {},
   "outputs": [
    {
     "data": {
      "text/plain": [
       "10.41401948326981"
      ]
     },
     "execution_count": 28,
     "metadata": {},
     "output_type": "execute_result"
    }
   ],
   "source": [
    "0.5 * df['Data.Carbohydrate'].mean()"
   ]
  },
  {
   "cell_type": "code",
   "execution_count": 46,
   "id": "f0fdc410-10d5-4e29-9e5e-903b99347e4f",
   "metadata": {},
   "outputs": [],
   "source": [
    "conditions = [\n",
    "    (df['Data.Carbohydrate'] < 10.41),\n",
    "    (df['Data.Carbohydrate'] >= 10.41) & (df['Data.Carbohydrate'] < 20.821),\n",
    "    (df['Data.Carbohydrate'] >= 20.82)\n",
    "    ]\n",
    "\n",
    "values = [0,1,2]\n",
    "\n",
    "df['COL1_mean_split'] = np.select(conditions, values)"
   ]
  },
  {
   "cell_type": "code",
   "execution_count": 51,
   "id": "e04b78ca-5d09-4b94-b53a-f0e98a8278c6",
   "metadata": {},
   "outputs": [
    {
     "data": {
      "text/plain": [
       "count    7083.000000\n",
       "mean        0.908937\n",
       "std         0.850790\n",
       "min         0.000000\n",
       "25%         0.000000\n",
       "50%         1.000000\n",
       "75%         2.000000\n",
       "max         2.000000\n",
       "Name: COL1_mean_split, dtype: float64"
      ]
     },
     "execution_count": 51,
     "metadata": {},
     "output_type": "execute_result"
    }
   ],
   "source": [
    "#just to make sure it worked..\n",
    "\n",
    "df['COL1_mean_split'].describe()"
   ]
  },
  {
   "cell_type": "markdown",
   "id": "0c91b309-4adb-4b9e-8a32-e71ca65db307",
   "metadata": {},
   "source": [
    "**bar plot showing the count of the values of 0, 1, and 2 in the COL1_mean_split column**"
   ]
  },
  {
   "cell_type": "code",
   "execution_count": 68,
   "id": "574fda09-715f-4fee-9420-f84031fcbdf0",
   "metadata": {},
   "outputs": [
    {
     "data": {
      "image/png": "[encoded data removed]",
      "text/plain": [
       "<Figure size 432x288 with 1 Axes>"
      ]
     },
     "metadata": {
      "needs_background": "light"
     },
     "output_type": "display_data"
    }
   ],
   "source": [
    "df['COL1_mean_split'].value_counts().plot(kind='bar');"
   ]
  },
  {
   "cell_type": "markdown",
   "id": "d3c8f8c2-0442-47cc-b666-c8b1b9592425",
   "metadata": {},
   "source": [
    "**box plot of the carbohydrate values grouped by mean_split values**"
   ]
  },
  {
   "cell_type": "code",
   "execution_count": 73,
   "id": "8d1106ee-f2c2-467d-9d90-a8732a45922a",
   "metadata": {},
   "outputs": [
    {
     "data": {
      "image/png": "[encoded data removed]",
      "text/plain": [
       "<Figure size 432x288 with 1 Axes>"
      ]
     },
     "metadata": {
      "needs_background": "light"
     },
     "output_type": "display_data"
    }
   ],
   "source": [
    "df.boxplot(column=['Data.Carbohydrate'], by=['COL1_mean_split']);"
   ]
  },
  {
   "cell_type": "markdown",
   "id": "c01b6f6d-4515-445f-baf2-42d95eeb5949",
   "metadata": {},
   "source": [
    "**Calculate the correlation between Carbohydrates and another column: Fiber**"
   ]
  },
  {
   "cell_type": "code",
   "execution_count": 74,
   "id": "078038e2-713c-4994-ac71-da4b49954476",
   "metadata": {},
   "outputs": [
    {
     "data": {
      "text/html": [
       "<div>\n",
       "<style scoped>\n",
       "    .dataframe tbody tr th:only-of-type {\n",
       "        vertical-align: middle;\n",
       "    }\n",
       "\n",
       "    .dataframe tbody tr th {\n",
       "        vertical-align: top;\n",
       "    }\n",
       "\n",
       "    .dataframe thead th {\n",
       "        text-align: right;\n",
       "    }\n",
       "</style>\n",
       "<table border=\"1\" class=\"dataframe\">\n",
       "  <thead>\n",
       "    <tr style=\"text-align: right;\">\n",
       "      <th></th>\n",
       "      <th>Data.Carbohydrate</th>\n",
       "      <th>Data.Fiber</th>\n",
       "    </tr>\n",
       "  </thead>\n",
       "  <tbody>\n",
       "    <tr>\n",
       "      <th>Data.Carbohydrate</th>\n",
       "      <td>1.000000</td>\n",
       "      <td>0.488009</td>\n",
       "    </tr>\n",
       "    <tr>\n",
       "      <th>Data.Fiber</th>\n",
       "      <td>0.488009</td>\n",
       "      <td>1.000000</td>\n",
       "    </tr>\n",
       "  </tbody>\n",
       "</table>\n",
       "</div>"
      ],
      "text/plain": [
       "                   Data.Carbohydrate  Data.Fiber\n",
       "Data.Carbohydrate           1.000000    0.488009\n",
       "Data.Fiber                  0.488009    1.000000"
      ]
     },
     "execution_count": 74,
     "metadata": {},
     "output_type": "execute_result"
    }
   ],
   "source": [
    "df[['Data.Carbohydrate','Data.Fiber']].corr()"
   ]
  },
  {
   "cell_type": "markdown",
   "id": "d7d68d25-1645-4627-b6ae-755358fe8fc9",
   "metadata": {},
   "source": [
    "**scatter plot of Carbohydrates vs Fiber (with comments on whether the calculated correlation value makes sense).**"
   ]
  },
  {
   "cell_type": "code",
   "execution_count": 76,
   "id": "ec8641d4-e031-43ea-8313-3cc05b1546d0",
   "metadata": {},
   "outputs": [
    {
     "data": {
      "image/png": "[encoded data removed]",
      "text/plain": [
       "<Figure size 432x288 with 1 Axes>"
      ]
     },
     "metadata": {
      "needs_background": "light"
     },
     "output_type": "display_data"
    }
   ],
   "source": [
    "df.plot(kind='scatter',\n",
    "        x='Data.Carbohydrate',\n",
    "        y='Data.Fiber');"
   ]
  },
  {
   "cell_type": "markdown",
   "id": "1333cd17-347d-4c0f-98fe-642892a93814",
   "metadata": {},
   "source": [
    "The correlation between carbohhydrates and fiber is pretty weak (r = 0.48). The scatter plot doesn't show a clear pattern aside from a very slight positive direction (hence low positve r value), likely influenced by the handful of high fiber values, otherwise a wide range of carb values have fiber values between 0 and ~10/15."
   ]
  },
  {
   "cell_type": "markdown",
   "id": "60580a68-0572-493f-be7b-0beca6e7a4fd",
   "metadata": {},
   "source": [
    "**hexagonal binning plot of Carbohydrates vs Fiber**"
   ]
  },
  {
   "cell_type": "code",
   "execution_count": 79,
   "id": "6e661748-91fc-4deb-b68d-0764edf204ce",
   "metadata": {},
   "outputs": [
    {
     "data": {
      "image/png": "[encoded data removed]",
      "text/plain": [
       "<Figure size 432x288 with 2 Axes>"
      ]
     },
     "metadata": {
      "needs_background": "light"
     },
     "output_type": "display_data"
    }
   ],
   "source": [
    "df.plot(kind='hexbin',\n",
    "        cmap='gist_stern_r',\n",
    "        x='Data.Carbohydrate',\n",
    "        y='Data.Fiber');"
   ]
  },
  {
   "cell_type": "code",
   "execution_count": 86,
   "id": "26e3a54b-53bd-4bcc-b5d4-40c21900b6e8",
   "metadata": {},
   "outputs": [
    {
     "data": {
      "image/png": "[encoded data removed]",
      "text/plain": [
       "<Figure size 432x288 with 2 Axes>"
      ]
     },
     "metadata": {
      "needs_background": "light"
     },
     "output_type": "display_data"
    }
   ],
   "source": [
    "df[(df['Data.Carbohydrate'] < 60) & \n",
    "  df['Data.Fiber']].plot(kind='hexbin',\n",
    "        cmap='gist_stern_r',\n",
    "        x='Data.Carbohydrate',\n",
    "        y='Data.Fiber');"
   ]
  },
  {
   "cell_type": "markdown",
   "id": "e6845da4-3361-4410-a931-69bee40944cf",
   "metadata": {},
   "source": [
    "**BONUS POINT**\n",
    "(couldn't figure out the grouping part..)"
   ]
  },
  {
   "cell_type": "code",
   "execution_count": 87,
   "id": "09049194-4bdd-4951-9118-e84d967d2040",
   "metadata": {},
   "outputs": [],
   "source": [
    "import seaborn"
   ]
  },
  {
   "cell_type": "code",
   "execution_count": null,
   "id": "db57eb59-4339-4a96-8320-8ec8b4d67384",
   "metadata": {},
   "outputs": [],
   "source": [
    "seaborn.FacetGrid(df, col =\"Data\",  hue =\"day\")"
   ]
  },
  {
   "cell_type": "code",
   "execution_count": 96,
   "id": "e7817a68-b6ad-4c83-83aa-2fbc3fb0240c",
   "metadata": {},
   "outputs": [
    {
     "data": {
      "image/png": "[encoded data removed]",
      "text/plain": [
       "<Figure size 432x432 with 3 Axes>"
      ]
     },
     "metadata": {
      "needs_background": "light"
     },
     "output_type": "display_data"
    }
   ],
   "source": [
    "x = df['Data.Carbohydrate']\n",
    "y = df['Data.Fiber']\n",
    "seaborn.jointplot(x=x, y=y, kind=\"hex\", color=\"#4CB391\");"
   ]
  }
 ],
 "metadata": {
  "kernelspec": {
   "display_name": "Python 3",
   "language": "python",
   "name": "python3"
  },
  "language_info": {
   "codemirror_mode": {
    "name": "ipython",
    "version": 3
   },
   "file_extension": ".py",
   "mimetype": "text/x-python",
   "name": "python",
   "nbconvert_exporter": "python",
   "pygments_lexer": "ipython3",
   "version": "3.8.8"
  }
 },
 "nbformat": 4,
 "nbformat_minor": 5
}
